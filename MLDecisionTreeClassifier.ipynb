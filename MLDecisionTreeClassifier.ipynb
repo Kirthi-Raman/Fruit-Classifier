{
 "cells": [
  {
   "cell_type": "markdown",
   "metadata": {},
   "source": [
    "# Decision Tree Classifier for a fruits dataset"
   ]
  },
  {
   "cell_type": "code",
   "execution_count": 7,
   "metadata": {},
   "outputs": [],
   "source": [
    "# For Python 2/3 compatibility\n",
    "from __future__ import print_function"
   ]
  },
  {
   "cell_type": "code",
   "execution_count": 2,
   "metadata": {},
   "outputs": [],
   "source": [
    "# Training data consisting of 3 fruits: 'Apple', 'Grape' and 'Lemon'\n",
    "training_data = [\n",
    "    ['Green',3,'Mango'],\n",
    "    ['Red',1,'Cherry'],\n",
    "    ['Yellow',3,'Plum'],\n",
    "    ['Yellow',3,'Mango'],\n",
    "    ['Red',1,'Cherry'],\n",
    "    ['Blue',1,'Blueberry']\n",
    "]\n",
    "\n",
    "# Column Labels: used only to print the tree\n",
    "header = ['color','diameter','label']"
   ]
  },
  {
   "cell_type": "code",
   "execution_count": 3,
   "metadata": {},
   "outputs": [
    {
     "data": {
      "text/plain": [
       "[['Green', 3, 'Mango'],\n",
       " ['Red', 1, 'Cherry'],\n",
       " ['Yellow', 3, 'Plum'],\n",
       " ['Yellow', 3, 'Mango'],\n",
       " ['Red', 1, 'Cherry'],\n",
       " ['Blue', 1, 'Blueberry']]"
      ]
     },
     "execution_count": 3,
     "metadata": {},
     "output_type": "execute_result"
    }
   ],
   "source": [
    "training_data"
   ]
  },
  {
   "cell_type": "code",
   "execution_count": 4,
   "metadata": {},
   "outputs": [
    {
     "data": {
      "text/plain": [
       "['color', 'diameter', 'label']"
      ]
     },
     "execution_count": 4,
     "metadata": {},
     "output_type": "execute_result"
    }
   ],
   "source": [
    "header"
   ]
  },
  {
   "cell_type": "code",
   "execution_count": 5,
   "metadata": {},
   "outputs": [],
   "source": [
    "# Utility function to find the unique values in a column of this dataset\n",
    "\n",
    "def unique_values(rows,col):\n",
    "    vals = []\n",
    "    for row in rows:\n",
    "        vals.append(row[col])\n",
    "    return set(vals)\n",
    "\n",
    "# Alternative efficient method\n",
    "#def unique_values(rows,col):\n",
    "#    return set([row[col] for row in rows])"
   ]
  },
  {
   "cell_type": "code",
   "execution_count": 6,
   "metadata": {},
   "outputs": [
    {
     "data": {
      "text/plain": [
       "{'Blue', 'Green', 'Red', 'Yellow'}"
      ]
     },
     "execution_count": 6,
     "metadata": {},
     "output_type": "execute_result"
    }
   ],
   "source": [
    "# Using utility function to determine the unique values in column 1\n",
    "unique_values(training_data,0)"
   ]
  },
  {
   "cell_type": "code",
   "execution_count": 7,
   "metadata": {},
   "outputs": [
    {
     "data": {
      "text/plain": [
       "{1, 3}"
      ]
     },
     "execution_count": 7,
     "metadata": {},
     "output_type": "execute_result"
    }
   ],
   "source": [
    "# Using utility function to find the unique values in column 2\n",
    "unique_values(training_data,1)"
   ]
  },
  {
   "cell_type": "code",
   "execution_count": 8,
   "metadata": {},
   "outputs": [
    {
     "data": {
      "text/plain": [
       "{'Blueberry', 'Cherry', 'Mango', 'Plum'}"
      ]
     },
     "execution_count": 8,
     "metadata": {},
     "output_type": "execute_result"
    }
   ],
   "source": [
    "# Using utility function to find the unique values in column 3\n",
    "unique_values(training_data,2)"
   ]
  },
  {
   "cell_type": "code",
   "execution_count": 9,
   "metadata": {},
   "outputs": [],
   "source": [
    "#utility function for class count: count of unique values in a column\n",
    "\n",
    "def class_counts(rows):\n",
    "    \"\"\"Counts the number of each type of example in a dataset\"\"\"\n",
    "    counts = {}    #dictionary of label -> count\n",
    "    for row in rows:\n",
    "        label = row[-1]    #label is the last column; counting 'labels' column\n",
    "        if label not in counts:\n",
    "            counts[label] = 0\n",
    "        counts[label] += 1\n",
    "    return counts"
   ]
  },
  {
   "cell_type": "code",
   "execution_count": 10,
   "metadata": {},
   "outputs": [
    {
     "data": {
      "text/plain": [
       "{'Blueberry': 1, 'Cherry': 2, 'Mango': 2, 'Plum': 1}"
      ]
     },
     "execution_count": 10,
     "metadata": {},
     "output_type": "execute_result"
    }
   ],
   "source": [
    "# count of unique labels (fruit names)\n",
    "class_counts(training_data)"
   ]
  },
  {
   "cell_type": "code",
   "execution_count": 11,
   "metadata": {},
   "outputs": [],
   "source": [
    "#utility function to check if the value is a number or not\n",
    "\n",
    "def is_numeric(value):\n",
    "    \"\"\"Test if a value is numeric\"\"\"\n",
    "    return isinstance(value, int) or isinstance(value, float)\n"
   ]
  },
  {
   "cell_type": "code",
   "execution_count": 12,
   "metadata": {},
   "outputs": [
    {
     "data": {
      "text/plain": [
       "True"
      ]
     },
     "execution_count": 12,
     "metadata": {},
     "output_type": "execute_result"
    }
   ],
   "source": [
    "is_numeric(7)"
   ]
  },
  {
   "cell_type": "code",
   "execution_count": 13,
   "metadata": {},
   "outputs": [
    {
     "data": {
      "text/plain": [
       "False"
      ]
     },
     "execution_count": 13,
     "metadata": {},
     "output_type": "execute_result"
    }
   ],
   "source": [
    "is_numeric('red')"
   ]
  },
  {
   "cell_type": "code",
   "execution_count": 14,
   "metadata": {},
   "outputs": [],
   "source": [
    "#Class Question is used to partition the dataset\n",
    "\n",
    "class Question:\n",
    "    def __init__(self, column,value):\n",
    "        #print(column)\n",
    "        #print(value)\n",
    "        self.column = column\n",
    "        self.value = value\n",
    "        \n",
    "    def match(self, example):\n",
    "        #compare the feature value in the example to the feature value in the question\n",
    "        val = example[self.column]\n",
    "        # print(example)\n",
    "        #print(\"val =\", val)\n",
    "        if is_numeric(val):\n",
    "            return val >= self.value\n",
    "        else:\n",
    "            return val == self.value\n",
    "       \n",
    "    def __repr__(self):\n",
    "        #helper method to print the question in a readable format\n",
    "        condition = \"==\"\n",
    "        if is_numeric(self.value):\n",
    "            condition = \">=\"\n",
    "        return ('Is %s %s %s?' % (header[self.column], condition, str(self.value)))"
   ]
  },
  {
   "cell_type": "code",
   "execution_count": 15,
   "metadata": {},
   "outputs": [
    {
     "data": {
      "text/plain": [
       "Is diameter >= 3?"
      ]
     },
     "execution_count": 15,
     "metadata": {},
     "output_type": "execute_result"
    }
   ],
   "source": [
    "#  Question if column 1 value is 3\n",
    "Question(1,3)"
   ]
  },
  {
   "cell_type": "code",
   "execution_count": 16,
   "metadata": {},
   "outputs": [
    {
     "data": {
      "text/plain": [
       "Is color == Green?"
      ]
     },
     "execution_count": 16,
     "metadata": {},
     "output_type": "execute_result"
    }
   ],
   "source": [
    "# assign question if column 0 is green to variable 'p'\n",
    "p = Question(0,'Green')\n",
    "p"
   ]
  },
  {
   "cell_type": "code",
   "execution_count": 17,
   "metadata": {},
   "outputs": [
    {
     "data": {
      "text/plain": [
       "True"
      ]
     },
     "execution_count": 17,
     "metadata": {},
     "output_type": "execute_result"
    }
   ],
   "source": [
    "#lets pick an example from the dataset and check if it matches with the question\n",
    "# check if row 0 matches question in variable 'p'\n",
    "\n",
    "example = training_data[0]\n",
    "p.match(example)"
   ]
  },
  {
   "cell_type": "code",
   "execution_count": 18,
   "metadata": {},
   "outputs": [],
   "source": [
    "#partition will partition a dataset\n",
    "#for each row in the dataset, check if it matches the question.if so, add it to the True branch else to the false branch\n",
    "\n",
    "def partition(rows, question):\n",
    "    true_rows, false_rows = [],[]\n",
    "    for row in rows:\n",
    "        if question.match(row):\n",
    "            true_rows.append(row)\n",
    "        else:\n",
    "            false_rows.append(row)\n",
    "            \n",
    "    return true_rows,false_rows\n"
   ]
  },
  {
   "cell_type": "code",
   "execution_count": 19,
   "metadata": {},
   "outputs": [],
   "source": [
    "#lets partition the training data based on whether rows are red\n",
    "true_rows, false_rows = partition(training_data, Question(0,'Red'))"
   ]
  },
  {
   "cell_type": "code",
   "execution_count": 20,
   "metadata": {},
   "outputs": [
    {
     "data": {
      "text/plain": [
       "[['Red', 1, 'Cherry'], ['Red', 1, 'Cherry']]"
      ]
     },
     "execution_count": 20,
     "metadata": {},
     "output_type": "execute_result"
    }
   ],
   "source": [
    "true_rows"
   ]
  },
  {
   "cell_type": "code",
   "execution_count": 21,
   "metadata": {},
   "outputs": [
    {
     "data": {
      "text/plain": [
       "[['Green', 3, 'Mango'],\n",
       " ['Yellow', 3, 'Plum'],\n",
       " ['Yellow', 3, 'Mango'],\n",
       " ['Blue', 1, 'Blueberry']]"
      ]
     },
     "execution_count": 21,
     "metadata": {},
     "output_type": "execute_result"
    }
   ],
   "source": [
    "false_rows"
   ]
  },
  {
   "cell_type": "code",
   "execution_count": 22,
   "metadata": {},
   "outputs": [],
   "source": [
    "#Gini impurity calculates impurity\n",
    "def gini(rows):\n",
    "    counts = class_counts(rows)\n",
    "    #print(counts)\n",
    "    impurity = 1\n",
    "    for lbl in counts:\n",
    "        prob_of_lbl = counts[lbl]/float(len(rows))\n",
    "        #print(len(rows))\n",
    "        #print(counts[lbl])\n",
    "        #print(prob_of_lbl)\n",
    "        impurity = impurity - prob_of_lbl**2\n",
    "        #print(prob_of_lbl**2)\n",
    "    return impurity"
   ]
  },
  {
   "cell_type": "code",
   "execution_count": 23,
   "metadata": {},
   "outputs": [
    {
     "data": {
      "text/plain": [
       "0.0"
      ]
     },
     "execution_count": 23,
     "metadata": {},
     "output_type": "execute_result"
    }
   ],
   "source": [
    "#lets check gini impurity with no mixing\n",
    "no_mixing = [['Mango'],['Mango']]\n",
    "gini(no_mixing)"
   ]
  },
  {
   "cell_type": "code",
   "execution_count": 27,
   "metadata": {},
   "outputs": [
    {
     "data": {
      "text/plain": [
       "0.5"
      ]
     },
     "execution_count": 27,
     "metadata": {},
     "output_type": "execute_result"
    }
   ],
   "source": [
    "# now lets try gini impurity with 50% impurity i.e., 50% orange and 50% apple\n",
    "some_mixing = [['Mango'],['Berry']]\n",
    "gini(some_mixing)"
   ]
  },
  {
   "cell_type": "code",
   "execution_count": 28,
   "metadata": {},
   "outputs": [
    {
     "data": {
      "text/plain": [
       "0.7999999999999998"
      ]
     },
     "execution_count": 28,
     "metadata": {},
     "output_type": "execute_result"
    }
   ],
   "source": [
    "# with lots of mixing\n",
    "lots_of_mixing = [['Mango'],['Orange'],['Cherry'],['Grapefruit'],['Blueberry']]\n",
    "gini(lots_of_mixing)"
   ]
  },
  {
   "cell_type": "code",
   "execution_count": 30,
   "metadata": {},
   "outputs": [],
   "source": [
    "# information gain = uncertainity of the starting node - weighted impurity of both the child node\n",
    "def info_gain(left, right,current_uncertainity):\n",
    "    p = float(len(left))/(len(left)+len(right))\n",
    "    return current_uncertainity - p * gini(left) - (1-p)*gini(right)\n",
    "    "
   ]
  },
  {
   "cell_type": "code",
   "execution_count": 31,
   "metadata": {},
   "outputs": [
    {
     "data": {
      "text/plain": [
       "0.7222222222222221"
      ]
     },
     "execution_count": 31,
     "metadata": {},
     "output_type": "execute_result"
    }
   ],
   "source": [
    "# calculate the impurity of the training set\n",
    "current_uncertainity = gini(training_data)\n",
    "current_uncertainity\n"
   ]
  },
  {
   "cell_type": "code",
   "execution_count": 32,
   "metadata": {},
   "outputs": [
    {
     "data": {
      "text/plain": [
       "0.30555555555555536"
      ]
     },
     "execution_count": 32,
     "metadata": {},
     "output_type": "execute_result"
    }
   ],
   "source": [
    "# how much information do we get by partitioning on red \n",
    "true_rows,false_rows = partition(training_data, Question(0,'Red'))\n",
    "#true_rows\n",
    "#false_rows\n",
    "info_gain(true_rows,false_rows,current_uncertainity)\n"
   ]
  },
  {
   "cell_type": "code",
   "execution_count": 33,
   "metadata": {},
   "outputs": [
    {
     "data": {
      "text/plain": [
       "0.12222222222222223"
      ]
     },
     "execution_count": 33,
     "metadata": {},
     "output_type": "execute_result"
    }
   ],
   "source": [
    "# how much information do we get by partitioning on green\n",
    "true_rows,false_rows = partition(training_data,Question(0,'Green'))\n",
    "info_gain(true_rows,false_rows,current_uncertainity)"
   ]
  },
  {
   "cell_type": "code",
   "execution_count": 34,
   "metadata": {},
   "outputs": [
    {
     "data": {
      "text/plain": [
       "[['Red', 1, 'Cherry'], ['Red', 1, 'Cherry']]"
      ]
     },
     "execution_count": 34,
     "metadata": {},
     "output_type": "execute_result"
    }
   ],
   "source": [
    "# we learned more using red (0.37) and less using green(.139)\n",
    "# lets look at the true rows and false rows\n",
    "true_rows,false_rows = partition(training_data,Question(0,'Red'))\n",
    "true_rows"
   ]
  },
  {
   "cell_type": "code",
   "execution_count": 35,
   "metadata": {},
   "outputs": [
    {
     "data": {
      "text/plain": [
       "[['Green', 3, 'Mango'],\n",
       " ['Yellow', 3, 'Plum'],\n",
       " ['Yellow', 3, 'Mango'],\n",
       " ['Blue', 1, 'Blueberry']]"
      ]
     },
     "execution_count": 35,
     "metadata": {},
     "output_type": "execute_result"
    }
   ],
   "source": [
    "false_rows"
   ]
  },
  {
   "cell_type": "code",
   "execution_count": 36,
   "metadata": {},
   "outputs": [
    {
     "data": {
      "text/plain": [
       "[['Green', 3, 'Mango']]"
      ]
     },
     "execution_count": 36,
     "metadata": {},
     "output_type": "execute_result"
    }
   ],
   "source": [
    "#lets look at true rows of green partition\n",
    "true_rows,false_rows = partition(training_data, Question(0,'Green'))\n",
    "true_rows"
   ]
  },
  {
   "cell_type": "code",
   "execution_count": 37,
   "metadata": {},
   "outputs": [
    {
     "data": {
      "text/plain": [
       "[['Red', 1, 'Cherry'],\n",
       " ['Yellow', 3, 'Plum'],\n",
       " ['Yellow', 3, 'Mango'],\n",
       " ['Red', 1, 'Cherry'],\n",
       " ['Blue', 1, 'Blueberry']]"
      ]
     },
     "execution_count": 37,
     "metadata": {},
     "output_type": "execute_result"
    }
   ],
   "source": [
    "false_rows"
   ]
  },
  {
   "cell_type": "code",
   "execution_count": 38,
   "metadata": {},
   "outputs": [],
   "source": [
    "#find the best question to ask by iterating over every feature/value and calculating the information gain\n",
    "def find_best_split(rows):\n",
    "    best_gain = 0\n",
    "    best_question = None\n",
    "    current_uncertainity = gini(rows)\n",
    "    n_features = len(rows[0])-1\n",
    "    \n",
    "    for col in range(n_features):   #for each feature\n",
    "        values = set([row[col] for row in rows])     #unique value in the columns\n",
    "        \n",
    "        for val in values:          #for each value\n",
    "            question = Question(col,val)\n",
    "            \n",
    "            #splitting the dataset\n",
    "            true_rows, false_rows = partition(rows,question)\n",
    "            \n",
    "            #skip this split if it doesnot divide the dataset\n",
    "            if len(true_rows)==0 or len(false_rows)==0:\n",
    "                continue\n",
    "                \n",
    "            #calculate the information gain from this step\n",
    "            gain = info_gain(true_rows, false_rows, current_uncertainity)\n",
    "            \n",
    "            if gain >= best_gain:\n",
    "                best_gain = gain\n",
    "                best_question = question\n",
    "                \n",
    "    return best_gain, best_question\n",
    "            \n",
    "             "
   ]
  },
  {
   "cell_type": "code",
   "execution_count": 39,
   "metadata": {},
   "outputs": [
    {
     "data": {
      "text/plain": [
       "(0.30555555555555536, Is color == Red?)"
      ]
     },
     "execution_count": 39,
     "metadata": {},
     "output_type": "execute_result"
    }
   ],
   "source": [
    "# determine the first question to ask for the training data\n",
    "find_best_split(training_data)"
   ]
  },
  {
   "cell_type": "code",
   "execution_count": 40,
   "metadata": {},
   "outputs": [],
   "source": [
    "# Leaf node classifies the data\n",
    "# This holds a dictionary of class (ex: 'Apple') -> number of times it appears in the rows \n",
    "#from the training data that reach this leaf\n",
    "\n",
    "class Leaf:\n",
    "    def __init__(self,rows):\n",
    "        self.predictions = class_counts(rows)\n"
   ]
  },
  {
   "cell_type": "code",
   "execution_count": 41,
   "metadata": {},
   "outputs": [],
   "source": [
    "# Decision node asks a question \n",
    "# It holds reference to the question and the 2 child nodes\n",
    "\n",
    "class Decision_Node:\n",
    "    def __init__(self,question,true_branch,false_branch):\n",
    "        self.question = question\n",
    "        self.true_branch = true_branch\n",
    "        self.false_branch = false_branch"
   ]
  },
  {
   "cell_type": "code",
   "execution_count": 42,
   "metadata": {},
   "outputs": [],
   "source": [
    "#Build the tree\n",
    "\n",
    "#Rules to build the tree:\n",
    "#1. believe that it works\n",
    "#2. Start by checking for the base case (no further information gain)\n",
    "#3. Prepare for giant stack traces\n",
    "\n",
    "def build_tree(rows):\n",
    "    \n",
    "    #1.Partion the dataset for each unique feature, \n",
    "    #2.find the information gain and \n",
    "    #3.return the question with highest gain\n",
    "    gain, question = find_best_split(rows)\n",
    "    \n",
    "    #Base case: no further info gain\n",
    "    #since we can ask no more questions, we will return a leaf\n",
    "    if gain == 0:\n",
    "        return Leaf(rows)\n",
    "    \n",
    "    #if we reach here, then we have found a useful feature/value to partition\n",
    "    true_rows, false_rows = partition(rows, question)\n",
    "    \n",
    "    #Recursively build the true branch\n",
    "    true_branch = build_tree(true_rows)\n",
    "    \n",
    "    #Recursively build the false branch\n",
    "    false_branch = build_tree(false_rows)\n",
    "    \n",
    "    #Return a question node\n",
    "    #This records the best attribute/value to ask at this point and branch to follow based on the answer\n",
    "    return Decision_Node(question, true_branch, false_branch) "
   ]
  },
  {
   "cell_type": "code",
   "execution_count": 43,
   "metadata": {},
   "outputs": [],
   "source": [
    "#World's most elegant tree building function\n",
    "def print_tree(node, spacing =\"\"):\n",
    "    \n",
    "    #Base case: we have reached a leaf\n",
    "    if isinstance(node, Leaf):\n",
    "        print(spacing + 'Predict', node.predictions)\n",
    "        #print (node.predictions)\n",
    "        return\n",
    "    \n",
    "    #print the question at this node\n",
    "    print(spacing + str(node.question))\n",
    "    \n",
    "    #call this function recursively on true branch\n",
    "    print(spacing + '--> True:')\n",
    "    print_tree(node.true_branch, spacing +' ')\n",
    "    \n",
    "    #call this function recursively on false branch\n",
    "    print(spacing + '--> False:')\n",
    "    print_tree(node.false_branch, spacing +' ')\n",
    "    "
   ]
  },
  {
   "cell_type": "code",
   "execution_count": 44,
   "metadata": {},
   "outputs": [
    {
     "name": "stdout",
     "output_type": "stream",
     "text": [
      "Is color == Red?\n",
      "--> True:\n",
      " Predict {'Cherry': 2}\n",
      "--> False:\n",
      " Is diameter >= 3?\n",
      " --> True:\n",
      "  Is color == Yellow?\n",
      "  --> True:\n",
      "   Predict {'Plum': 1, 'Mango': 1}\n",
      "  --> False:\n",
      "   Predict {'Mango': 1}\n",
      " --> False:\n",
      "  Predict {'Blueberry': 1}\n"
     ]
    }
   ],
   "source": [
    "my_tree = build_tree(training_data)\n",
    "print_tree(my_tree)"
   ]
  },
  {
   "cell_type": "code",
   "execution_count": 45,
   "metadata": {},
   "outputs": [],
   "source": [
    "def classify(row, node):\n",
    "    #Base node: we have reached the leaf node\n",
    "    if isinstance(node, Leaf):\n",
    "        return node.predictions\n",
    "    \n",
    "    #To decide whether to follow the true branch or the false branch\n",
    "    # Compare the value/feature stored in the node to the example we're considering\n",
    "    if node.question.match(row):\n",
    "        return classify(row,node.true_branch)\n",
    "    else:\n",
    "        return classify(row, node.false_branch)\n",
    "    \n",
    "    "
   ]
  },
  {
   "cell_type": "code",
   "execution_count": 46,
   "metadata": {},
   "outputs": [
    {
     "data": {
      "text/plain": [
       "{'Mango': 1}"
      ]
     },
     "execution_count": 46,
     "metadata": {},
     "output_type": "execute_result"
    }
   ],
   "source": [
    "#Demo\n",
    "# tree predicts the first node of the dataset is an apple with confidence\n",
    "classify(training_data[0],my_tree)"
   ]
  },
  {
   "cell_type": "code",
   "execution_count": 47,
   "metadata": {},
   "outputs": [],
   "source": [
    "# A nice way to print the predictions at the leaf\n",
    "def print_leaf(counts):\n",
    "    total = sum(counts.values())*1.0\n",
    "    probs = {}\n",
    "    for lbl in counts.keys():\n",
    "        probs[lbl]=str(int(counts[lbl]/total*100)) + \"%\"\n",
    "    return probs"
   ]
  },
  {
   "cell_type": "code",
   "execution_count": 48,
   "metadata": {},
   "outputs": [
    {
     "data": {
      "text/plain": [
       "{'Mango': '100%'}"
      ]
     },
     "execution_count": 48,
     "metadata": {},
     "output_type": "execute_result"
    }
   ],
   "source": [
    "# print_leaf\n",
    "print_leaf(classify(training_data[0],my_tree))"
   ]
  },
  {
   "cell_type": "code",
   "execution_count": 49,
   "metadata": {},
   "outputs": [
    {
     "data": {
      "text/plain": [
       "{'Cherry': '100%'}"
      ]
     },
     "execution_count": 49,
     "metadata": {},
     "output_type": "execute_result"
    }
   ],
   "source": [
    "print_leaf(classify(training_data[1],my_tree))"
   ]
  },
  {
   "cell_type": "code",
   "execution_count": 50,
   "metadata": {},
   "outputs": [
    {
     "data": {
      "text/plain": [
       "{'Mango': '50%', 'Plum': '50%'}"
      ]
     },
     "execution_count": 50,
     "metadata": {},
     "output_type": "execute_result"
    }
   ],
   "source": [
    "print_leaf(classify(training_data[2],my_tree))"
   ]
  },
  {
   "cell_type": "code",
   "execution_count": 53,
   "metadata": {},
   "outputs": [
    {
     "data": {
      "text/plain": [
       "{'Mango': '50%', 'Plum': '50%'}"
      ]
     },
     "execution_count": 53,
     "metadata": {},
     "output_type": "execute_result"
    }
   ],
   "source": [
    "print_leaf(classify(training_data[3],my_tree))"
   ]
  },
  {
   "cell_type": "code",
   "execution_count": 55,
   "metadata": {},
   "outputs": [
    {
     "data": {
      "text/plain": [
       "{'Cherry': '100%'}"
      ]
     },
     "execution_count": 55,
     "metadata": {},
     "output_type": "execute_result"
    }
   ],
   "source": [
    "print_leaf(classify(training_data[4],my_tree))"
   ]
  },
  {
   "cell_type": "code",
   "execution_count": 56,
   "metadata": {},
   "outputs": [
    {
     "data": {
      "text/plain": [
       "{'Blueberry': '100%'}"
      ]
     },
     "execution_count": 56,
     "metadata": {},
     "output_type": "execute_result"
    }
   ],
   "source": [
    "print_leaf(classify(training_data[5],my_tree))"
   ]
  },
  {
   "cell_type": "code",
   "execution_count": 51,
   "metadata": {},
   "outputs": [],
   "source": [
    "# Test the training dataset\n",
    "testing_data = [\n",
    "    ['Green',3,'Mango'],\n",
    "    ['Red',1,'Cherry'],\n",
    "    ['Yellow',3,'Plum'],\n",
    "    ['Yellow',3,'Mango'],\n",
    "    ['Red',1,'Cherry'],\n",
    "    ['Blue',1,'Blueberry']\n",
    "]"
   ]
  },
  {
   "cell_type": "code",
   "execution_count": 52,
   "metadata": {},
   "outputs": [
    {
     "name": "stdout",
     "output_type": "stream",
     "text": [
      "Actual: Mango and color: Green. Predicted: {'Mango': '100%'}\n",
      "Actual: Cherry and color: Red. Predicted: {'Cherry': '100%'}\n",
      "Actual: Plum and color: Yellow. Predicted: {'Plum': '50%', 'Mango': '50%'}\n",
      "Actual: Mango and color: Yellow. Predicted: {'Plum': '50%', 'Mango': '50%'}\n",
      "Actual: Cherry and color: Red. Predicted: {'Cherry': '100%'}\n",
      "Actual: Blueberry and color: Blue. Predicted: {'Blueberry': '100%'}\n"
     ]
    }
   ],
   "source": [
    "for row in testing_data:\n",
    "    print('Actual: %s and color: %s. Predicted: %s' % (row[-1], row[0], print_leaf(classify(row,my_tree))))"
   ]
  },
  {
   "cell_type": "code",
   "execution_count": null,
   "metadata": {},
   "outputs": [],
   "source": []
  },
  {
   "cell_type": "code",
   "execution_count": null,
   "metadata": {},
   "outputs": [],
   "source": []
  }
 ],
 "metadata": {
  "kernelspec": {
   "display_name": "Python 3",
   "language": "python",
   "name": "python3"
  },
  "language_info": {
   "codemirror_mode": {
    "name": "ipython",
    "version": 3
   },
   "file_extension": ".py",
   "mimetype": "text/x-python",
   "name": "python",
   "nbconvert_exporter": "python",
   "pygments_lexer": "ipython3",
   "version": "3.6.4"
  }
 },
 "nbformat": 4,
 "nbformat_minor": 2
}
